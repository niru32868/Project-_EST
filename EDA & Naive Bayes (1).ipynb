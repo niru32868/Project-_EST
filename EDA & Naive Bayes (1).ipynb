{
 "cells": [
  {
   "cell_type": "markdown",
   "metadata": {},
   "source": [
    "### More EDA\n",
    "***\n",
    "\n",
    "Here I make a graph and try to get some data ready for the Naive Bayes (NB) model"
   ]
  },
  {
   "cell_type": "code",
   "execution_count": 1,
   "metadata": {},
   "outputs": [],
   "source": [
    "import numpy as np\n",
    "import pandas as pd\n",
    "import matplotlib.pyplot as plt\n",
    "from sklearn.naive_bayes import GaussianNB, BernoulliNB, MultinomialNB\n",
    "from sklearn.model_selection import train_test_split\n",
    "from sklearn.linear_model import LogisticRegression\n",
    "pd.options.mode.chained_assignment = None  # default='warn'\n",
    "\n",
    "df = pd.read_csv('sendtime_dataset.csv')"
   ]
  },
  {
   "cell_type": "markdown",
   "metadata": {},
   "source": [
    "Just the standard imports and dataframe load at the beginning of any project."
   ]
  },
  {
   "cell_type": "code",
   "execution_count": 2,
   "metadata": {},
   "outputs": [
    {
     "data": {
      "text/html": [
       "<div>\n",
       "<style scoped>\n",
       "    .dataframe tbody tr th:only-of-type {\n",
       "        vertical-align: middle;\n",
       "    }\n",
       "\n",
       "    .dataframe tbody tr th {\n",
       "        vertical-align: top;\n",
       "    }\n",
       "\n",
       "    .dataframe thead th {\n",
       "        text-align: right;\n",
       "    }\n",
       "</style>\n",
       "<table border=\"1\" class=\"dataframe\">\n",
       "  <thead>\n",
       "    <tr style=\"text-align: right;\">\n",
       "      <th></th>\n",
       "      <th>userid</th>\n",
       "      <th>email</th>\n",
       "      <th>delivered_time</th>\n",
       "      <th>open_time</th>\n",
       "      <th>click_time</th>\n",
       "      <th>delivered_TOD</th>\n",
       "      <th>open_TOD</th>\n",
       "    </tr>\n",
       "  </thead>\n",
       "  <tbody>\n",
       "    <tr>\n",
       "      <th>0</th>\n",
       "      <td>346831</td>\n",
       "      <td>4d48b86a4581bbb66948b646cc9aa1ccb7c518c8ec72da...</td>\n",
       "      <td>1537840343</td>\n",
       "      <td>-1.000000e+00</td>\n",
       "      <td>-1.0</td>\n",
       "      <td>6743</td>\n",
       "      <td>-1.0</td>\n",
       "    </tr>\n",
       "    <tr>\n",
       "      <th>1</th>\n",
       "      <td>346831</td>\n",
       "      <td>0cb73fdcbfa76a8eac0a0b4af722ce79cd8cdf3e81b3ae...</td>\n",
       "      <td>1537887466</td>\n",
       "      <td>-1.000000e+00</td>\n",
       "      <td>-1.0</td>\n",
       "      <td>53866</td>\n",
       "      <td>-1.0</td>\n",
       "    </tr>\n",
       "    <tr>\n",
       "      <th>2</th>\n",
       "      <td>346831</td>\n",
       "      <td>947143456bd1abdc09897ac2d47ca9bf99fc67e744f8f8...</td>\n",
       "      <td>1537840357</td>\n",
       "      <td>1.537844e+09</td>\n",
       "      <td>-1.0</td>\n",
       "      <td>6757</td>\n",
       "      <td>10153.0</td>\n",
       "    </tr>\n",
       "    <tr>\n",
       "      <th>3</th>\n",
       "      <td>346831</td>\n",
       "      <td>febff9b2078f6790e3484bf39dc6f04daaae38cd8b8f79...</td>\n",
       "      <td>1537840336</td>\n",
       "      <td>-1.000000e+00</td>\n",
       "      <td>-1.0</td>\n",
       "      <td>6736</td>\n",
       "      <td>-1.0</td>\n",
       "    </tr>\n",
       "    <tr>\n",
       "      <th>4</th>\n",
       "      <td>346831</td>\n",
       "      <td>0522bc59fa40ee24491ee5dcc193e5113c8471153cc29c...</td>\n",
       "      <td>1537840358</td>\n",
       "      <td>-1.000000e+00</td>\n",
       "      <td>-1.0</td>\n",
       "      <td>6758</td>\n",
       "      <td>-1.0</td>\n",
       "    </tr>\n",
       "  </tbody>\n",
       "</table>\n",
       "</div>"
      ],
      "text/plain": [
       "   userid                                              email  delivered_time  \\\n",
       "0  346831  4d48b86a4581bbb66948b646cc9aa1ccb7c518c8ec72da...      1537840343   \n",
       "1  346831  0cb73fdcbfa76a8eac0a0b4af722ce79cd8cdf3e81b3ae...      1537887466   \n",
       "2  346831  947143456bd1abdc09897ac2d47ca9bf99fc67e744f8f8...      1537840357   \n",
       "3  346831  febff9b2078f6790e3484bf39dc6f04daaae38cd8b8f79...      1537840336   \n",
       "4  346831  0522bc59fa40ee24491ee5dcc193e5113c8471153cc29c...      1537840358   \n",
       "\n",
       "      open_time  click_time  delivered_TOD  open_TOD  \n",
       "0 -1.000000e+00        -1.0           6743      -1.0  \n",
       "1 -1.000000e+00        -1.0          53866      -1.0  \n",
       "2  1.537844e+09        -1.0           6757   10153.0  \n",
       "3 -1.000000e+00        -1.0           6736      -1.0  \n",
       "4 -1.000000e+00        -1.0           6758      -1.0  "
      ]
     },
     "execution_count": 2,
     "metadata": {},
     "output_type": "execute_result"
    }
   ],
   "source": [
    "df.fillna(-1, inplace=True)\n",
    "def time_convert(x):\n",
    "    if(x == -1):\n",
    "        return -1\n",
    "    else:\n",
    "        return x % 86400\n",
    "\n",
    "df['delivered_TOD'] = [time_convert(x) for x in df['delivered_time']]\n",
    "df['open_TOD'] = [time_convert(x) for x in df['open_time']]\n",
    "df.head()"
   ]
  },
  {
   "cell_type": "markdown",
   "metadata": {},
   "source": [
    "Replace the NaN's with -1's, add two new columns that are the delivered and open times in a time of day reference."
   ]
  },
  {
   "cell_type": "code",
   "execution_count": 3,
   "metadata": {},
   "outputs": [
    {
     "data": {
      "text/html": [
       "<div>\n",
       "<style scoped>\n",
       "    .dataframe tbody tr th:only-of-type {\n",
       "        vertical-align: middle;\n",
       "    }\n",
       "\n",
       "    .dataframe tbody tr th {\n",
       "        vertical-align: top;\n",
       "    }\n",
       "\n",
       "    .dataframe thead th {\n",
       "        text-align: right;\n",
       "    }\n",
       "</style>\n",
       "<table border=\"1\" class=\"dataframe\">\n",
       "  <thead>\n",
       "    <tr style=\"text-align: right;\">\n",
       "      <th></th>\n",
       "      <th>userid</th>\n",
       "      <th>email</th>\n",
       "      <th>delivered_time</th>\n",
       "      <th>open_time</th>\n",
       "      <th>click_time</th>\n",
       "      <th>delivered_TOD</th>\n",
       "      <th>open_TOD</th>\n",
       "      <th>bin_open</th>\n",
       "    </tr>\n",
       "  </thead>\n",
       "  <tbody>\n",
       "    <tr>\n",
       "      <th>0</th>\n",
       "      <td>346831</td>\n",
       "      <td>4d48b86a4581bbb66948b646cc9aa1ccb7c518c8ec72da...</td>\n",
       "      <td>1537840343</td>\n",
       "      <td>-1.000000e+00</td>\n",
       "      <td>-1.0</td>\n",
       "      <td>6743</td>\n",
       "      <td>-1.0</td>\n",
       "      <td>0</td>\n",
       "    </tr>\n",
       "    <tr>\n",
       "      <th>1</th>\n",
       "      <td>346831</td>\n",
       "      <td>0cb73fdcbfa76a8eac0a0b4af722ce79cd8cdf3e81b3ae...</td>\n",
       "      <td>1537887466</td>\n",
       "      <td>-1.000000e+00</td>\n",
       "      <td>-1.0</td>\n",
       "      <td>53866</td>\n",
       "      <td>-1.0</td>\n",
       "      <td>0</td>\n",
       "    </tr>\n",
       "    <tr>\n",
       "      <th>2</th>\n",
       "      <td>346831</td>\n",
       "      <td>947143456bd1abdc09897ac2d47ca9bf99fc67e744f8f8...</td>\n",
       "      <td>1537840357</td>\n",
       "      <td>1.537844e+09</td>\n",
       "      <td>-1.0</td>\n",
       "      <td>6757</td>\n",
       "      <td>10153.0</td>\n",
       "      <td>1</td>\n",
       "    </tr>\n",
       "    <tr>\n",
       "      <th>3</th>\n",
       "      <td>346831</td>\n",
       "      <td>febff9b2078f6790e3484bf39dc6f04daaae38cd8b8f79...</td>\n",
       "      <td>1537840336</td>\n",
       "      <td>-1.000000e+00</td>\n",
       "      <td>-1.0</td>\n",
       "      <td>6736</td>\n",
       "      <td>-1.0</td>\n",
       "      <td>0</td>\n",
       "    </tr>\n",
       "    <tr>\n",
       "      <th>4</th>\n",
       "      <td>346831</td>\n",
       "      <td>0522bc59fa40ee24491ee5dcc193e5113c8471153cc29c...</td>\n",
       "      <td>1537840358</td>\n",
       "      <td>-1.000000e+00</td>\n",
       "      <td>-1.0</td>\n",
       "      <td>6758</td>\n",
       "      <td>-1.0</td>\n",
       "      <td>0</td>\n",
       "    </tr>\n",
       "  </tbody>\n",
       "</table>\n",
       "</div>"
      ],
      "text/plain": [
       "   userid                                              email  delivered_time  \\\n",
       "0  346831  4d48b86a4581bbb66948b646cc9aa1ccb7c518c8ec72da...      1537840343   \n",
       "1  346831  0cb73fdcbfa76a8eac0a0b4af722ce79cd8cdf3e81b3ae...      1537887466   \n",
       "2  346831  947143456bd1abdc09897ac2d47ca9bf99fc67e744f8f8...      1537840357   \n",
       "3  346831  febff9b2078f6790e3484bf39dc6f04daaae38cd8b8f79...      1537840336   \n",
       "4  346831  0522bc59fa40ee24491ee5dcc193e5113c8471153cc29c...      1537840358   \n",
       "\n",
       "      open_time  click_time  delivered_TOD  open_TOD  bin_open  \n",
       "0 -1.000000e+00        -1.0           6743      -1.0         0  \n",
       "1 -1.000000e+00        -1.0          53866      -1.0         0  \n",
       "2  1.537844e+09        -1.0           6757   10153.0         1  \n",
       "3 -1.000000e+00        -1.0           6736      -1.0         0  \n",
       "4 -1.000000e+00        -1.0           6758      -1.0         0  "
      ]
     },
     "execution_count": 3,
     "metadata": {},
     "output_type": "execute_result"
    }
   ],
   "source": [
    "def yes_no_open(x):\n",
    "    if(x == -1):\n",
    "        return 0\n",
    "    else:\n",
    "        return 1\n",
    "    \n",
    "df['bin_open'] = [yes_no_open(x) for x in df['open_time']]\n",
    "df.head()"
   ]
  },
  {
   "cell_type": "markdown",
   "metadata": {},
   "source": [
    "Create column where opens are a binary yes or no values"
   ]
  },
  {
   "cell_type": "code",
   "execution_count": 4,
   "metadata": {},
   "outputs": [],
   "source": [
    "open_TOD_list = df['open_TOD'].where(df['open_TOD'] != -1)\n",
    "final_TOD_list = open_TOD_list.dropna()"
   ]
  },
  {
   "cell_type": "markdown",
   "metadata": {},
   "source": [
    "Make a list that is only emails that have an open time, this is just for the graphs below."
   ]
  },
  {
   "cell_type": "code",
   "execution_count": 5,
   "metadata": {},
   "outputs": [
    {
     "data": {
      "image/png": "[encoded data removed]",
      "text/plain": [
       "<Figure size 864x576 with 2 Axes>"
      ]
     },
     "metadata": {
      "needs_background": "light"
     },
     "output_type": "display_data"
    }
   ],
   "source": [
    "fig, ax = plt.subplots(nrows=2, ncols=1, sharex=True, figsize=(12,8))\n",
    "fig.subplots_adjust(hspace=0.2)\n",
    "fig.text(0.5, 0.04, 'Unix Time', ha='center', fontsize=22)\n",
    "fig.text(0.03, 0.5, 'Count', va='center', rotation='vertical', fontsize=22)\n",
    "ax[0].hist(df['delivered_TOD'], bins=24, color='orange', edgecolor='black')\n",
    "ax[0].set_title('Delivery Times', fontsize = 22)\n",
    "ax[0].grid(True, alpha=0.25)\n",
    "ax[1].hist(final_TOD_list, bins=24, color='orange', edgecolor='black')\n",
    "ax[1].set_title('Open Times', fontsize = 22)\n",
    "ax[1].grid(True, alpha=0.25)"
   ]
  },
  {
   "cell_type": "markdown",
   "metadata": {},
   "source": [
    "This is a histogram of the TOD columns, there are 24 bins, which represent hours of the day."
   ]
  },
  {
   "cell_type": "code",
   "execution_count": 6,
   "metadata": {},
   "outputs": [],
   "source": [
    "dfMin = df[df['open_TOD'] != -1]\n",
    "dfMin = dfMin[:100000]"
   ]
  },
  {
   "cell_type": "markdown",
   "metadata": {},
   "source": [
    "Make a minimized datase where there are only emails with an open time."
   ]
  },
  {
   "cell_type": "markdown",
   "metadata": {},
   "source": [
    "WARNING: THE BELOW FUNCTION IS VERY COMPUTATIONALLY EXPENSIVE, $O(n^2)$ RUNTIME."
   ]
  },
  {
   "cell_type": "code",
   "execution_count": 7,
   "metadata": {},
   "outputs": [
    {
     "name": "stdout",
     "output_type": "stream",
     "text": [
      "10 % of array done\n",
      "20 % of array done\n",
      "30 % of array done\n",
      "40 % of array done\n",
      "50 % of array done\n",
      "60 % of array done\n",
      "70 % of array done\n",
      "80 % of array done\n",
      "90 % of array done\n",
      "Finished\n"
     ]
    }
   ],
   "source": [
    "def email_id_calc(arr):\n",
    "    index = 0\n",
    "    loop_val = 0\n",
    "    memoize = []\n",
    "    res_set = []\n",
    "    total = len(arr)\n",
    "    part_done = [round((x/10)*len(arr)) for x in range(1, 11)]\n",
    "    for x in arr:\n",
    "        if loop_val in part_done:\n",
    "            print((part_done.index(loop_val)+1)*10, '% of array done')\n",
    "        loop_val += 1\n",
    "        if x in memoize:\n",
    "            res_set.append(memoize.index(x))\n",
    "        else:\n",
    "            memoize.append(x)\n",
    "            res_set.append(index)\n",
    "            index += 1\n",
    "    print('Finished')\n",
    "    print('test')\n",
    "    return res_set\n",
    "\n",
    "dfMin['email_id'] = email_id_calc(dfMin['email'])"
   ]
  },
  {
   "cell_type": "markdown",
   "metadata": {},
   "source": [
    "This gives me an email_id values that is a number so I can use it as a feature"
   ]
  },
  {
   "cell_type": "code",
   "execution_count": 8,
   "metadata": {},
   "outputs": [
    {
     "data": {
      "text/html": [
       "<div>\n",
       "<style scoped>\n",
       "    .dataframe tbody tr th:only-of-type {\n",
       "        vertical-align: middle;\n",
       "    }\n",
       "\n",
       "    .dataframe tbody tr th {\n",
       "        vertical-align: top;\n",
       "    }\n",
       "\n",
       "    .dataframe thead th {\n",
       "        text-align: right;\n",
       "    }\n",
       "</style>\n",
       "<table border=\"1\" class=\"dataframe\">\n",
       "  <thead>\n",
       "    <tr style=\"text-align: right;\">\n",
       "      <th></th>\n",
       "      <th>userid</th>\n",
       "      <th>email</th>\n",
       "      <th>delivered_time</th>\n",
       "      <th>open_time</th>\n",
       "      <th>click_time</th>\n",
       "      <th>delivered_TOD</th>\n",
       "      <th>open_TOD</th>\n",
       "      <th>bin_open</th>\n",
       "      <th>email_id</th>\n",
       "    </tr>\n",
       "  </thead>\n",
       "  <tbody>\n",
       "    <tr>\n",
       "      <th>2</th>\n",
       "      <td>346831</td>\n",
       "      <td>947143456bd1abdc09897ac2d47ca9bf99fc67e744f8f8...</td>\n",
       "      <td>1537840357</td>\n",
       "      <td>1.537844e+09</td>\n",
       "      <td>-1.000000e+00</td>\n",
       "      <td>6757</td>\n",
       "      <td>10153.0</td>\n",
       "      <td>1</td>\n",
       "      <td>0</td>\n",
       "    </tr>\n",
       "    <tr>\n",
       "      <th>26</th>\n",
       "      <td>1383044</td>\n",
       "      <td>63619225d02aedcadc35041cfeaf5a222134734d87917f...</td>\n",
       "      <td>1537894865</td>\n",
       "      <td>1.537965e+09</td>\n",
       "      <td>-1.000000e+00</td>\n",
       "      <td>61265</td>\n",
       "      <td>45265.0</td>\n",
       "      <td>1</td>\n",
       "      <td>1</td>\n",
       "    </tr>\n",
       "    <tr>\n",
       "      <th>32</th>\n",
       "      <td>1383044</td>\n",
       "      <td>ad6601e04ceb08900aeca65c6d0c451b8bf4769d203a9c...</td>\n",
       "      <td>1537894666</td>\n",
       "      <td>1.537976e+09</td>\n",
       "      <td>-1.000000e+00</td>\n",
       "      <td>61066</td>\n",
       "      <td>55738.0</td>\n",
       "      <td>1</td>\n",
       "      <td>2</td>\n",
       "    </tr>\n",
       "    <tr>\n",
       "      <th>37</th>\n",
       "      <td>13641</td>\n",
       "      <td>87507a6f8d888a1a29ec73d60c4182318262783be0b97b...</td>\n",
       "      <td>1537918715</td>\n",
       "      <td>1.537920e+09</td>\n",
       "      <td>-1.000000e+00</td>\n",
       "      <td>85115</td>\n",
       "      <td>86337.0</td>\n",
       "      <td>1</td>\n",
       "      <td>3</td>\n",
       "    </tr>\n",
       "    <tr>\n",
       "      <th>45</th>\n",
       "      <td>13641</td>\n",
       "      <td>272f19dd7a791b7cac8745024d842a4bafc80b907d9fe6...</td>\n",
       "      <td>1537875505</td>\n",
       "      <td>1.537876e+09</td>\n",
       "      <td>1.537876e+09</td>\n",
       "      <td>41905</td>\n",
       "      <td>41912.0</td>\n",
       "      <td>1</td>\n",
       "      <td>4</td>\n",
       "    </tr>\n",
       "  </tbody>\n",
       "</table>\n",
       "</div>"
      ],
      "text/plain": [
       "     userid                                              email  \\\n",
       "2    346831  947143456bd1abdc09897ac2d47ca9bf99fc67e744f8f8...   \n",
       "26  1383044  63619225d02aedcadc35041cfeaf5a222134734d87917f...   \n",
       "32  1383044  ad6601e04ceb08900aeca65c6d0c451b8bf4769d203a9c...   \n",
       "37    13641  87507a6f8d888a1a29ec73d60c4182318262783be0b97b...   \n",
       "45    13641  272f19dd7a791b7cac8745024d842a4bafc80b907d9fe6...   \n",
       "\n",
       "    delivered_time     open_time    click_time  delivered_TOD  open_TOD  \\\n",
       "2       1537840357  1.537844e+09 -1.000000e+00           6757   10153.0   \n",
       "26      1537894865  1.537965e+09 -1.000000e+00          61265   45265.0   \n",
       "32      1537894666  1.537976e+09 -1.000000e+00          61066   55738.0   \n",
       "37      1537918715  1.537920e+09 -1.000000e+00          85115   86337.0   \n",
       "45      1537875505  1.537876e+09  1.537876e+09          41905   41912.0   \n",
       "\n",
       "    bin_open  email_id  \n",
       "2          1         0  \n",
       "26         1         1  \n",
       "32         1         2  \n",
       "37         1         3  \n",
       "45         1         4  "
      ]
     },
     "execution_count": 8,
     "metadata": {},
     "output_type": "execute_result"
    }
   ],
   "source": [
    "dfMin.head()"
   ]
  },
  {
   "cell_type": "code",
   "execution_count": 9,
   "metadata": {},
   "outputs": [],
   "source": [
    "train, test = train_test_split(dfMin, test_size=0.2)"
   ]
  },
  {
   "cell_type": "markdown",
   "metadata": {},
   "source": [
    "Split the data into testing and training data with this function."
   ]
  },
  {
   "cell_type": "code",
   "execution_count": 10,
   "metadata": {},
   "outputs": [],
   "source": [
    "gnb = GaussianNB()"
   ]
  },
  {
   "cell_type": "markdown",
   "metadata": {},
   "source": [
    "Build a gaussian naive bayes model."
   ]
  },
  {
   "cell_type": "code",
   "execution_count": 11,
   "metadata": {},
   "outputs": [
    {
     "data": {
      "text/plain": [
       "GaussianNB(priors=None)"
      ]
     },
     "execution_count": 11,
     "metadata": {},
     "output_type": "execute_result"
    }
   ],
   "source": [
    "features = ['delivered_TOD', 'email_id']\n",
    "gnb.fit(train[features], train['open_TOD'])"
   ]
  },
  {
   "cell_type": "markdown",
   "metadata": {},
   "source": [
    "Train the model with features and target variable."
   ]
  },
  {
   "cell_type": "code",
   "execution_count": 12,
   "metadata": {},
   "outputs": [],
   "source": [
    "pred = gnb.predict(test[features])"
   ]
  },
  {
   "cell_type": "markdown",
   "metadata": {},
   "source": [
    "Check model with test set"
   ]
  },
  {
   "cell_type": "code",
   "execution_count": 13,
   "metadata": {},
   "outputs": [
    {
     "data": {
      "text/plain": [
       "0.0971"
      ]
     },
     "execution_count": 13,
     "metadata": {},
     "output_type": "execute_result"
    }
   ],
   "source": [
    "def accuracy_TOD(p, te, ti):\n",
    "    count = 0\n",
    "    for n in range(len(p)):\n",
    "        if(te[n]-(ti*30) <= p[n] <= te[n]+(ti*30)):\n",
    "            count+=1\n",
    "    return count/len(p)\n",
    "    \n",
    "\n",
    "accuracy_TOD(pred, test['open_TOD'].values, 10)"
   ]
  },
  {
   "cell_type": "markdown",
   "metadata": {},
   "source": [
    "The function takes in the predicted array, the test array, and the number of minutes that I want to give a window for the prediction to be in."
   ]
  },
  {
   "cell_type": "code",
   "execution_count": 14,
   "metadata": {},
   "outputs": [
    {
     "data": {
      "text/plain": [
       "0.0103"
      ]
     },
     "execution_count": 14,
     "metadata": {},
     "output_type": "execute_result"
    }
   ],
   "source": [
    "mnb = MultinomialNB()\n",
    "mnb.fit(train[features], train['open_TOD'])\n",
    "pred2 = mnb.predict(test[features])\n",
    "accuracy_TOD(pred2, test['open_TOD'].values, 10)"
   ]
  },
  {
   "cell_type": "markdown",
   "metadata": {},
   "source": [
    "This is the same thing but for a different feature distribution. This one appears to be worse."
   ]
  },
  {
   "cell_type": "code",
   "execution_count": 15,
   "metadata": {},
   "outputs": [
    {
     "data": {
      "text/plain": [
       "0.0094"
      ]
     },
     "execution_count": 15,
     "metadata": {},
     "output_type": "execute_result"
    }
   ],
   "source": [
    "bnb = BernoulliNB()\n",
    "bnb.fit(train[features], train['open_TOD'])\n",
    "pred3 = bnb.predict(test[features])\n",
    "accuracy_TOD(pred3, test['open_TOD'].values, 10)"
   ]
  },
  {
   "cell_type": "markdown",
   "metadata": {},
   "source": [
    "Again the same process but for the bernoulli distribution.\n",
    "\n",
    "Clearly the gaussian algorithm works best given input parameters email_id and delivered_time. \n",
    "\n",
    "New try predicting just whether an email will be opened or not using delivery time as a feature."
   ]
  },
  {
   "cell_type": "code",
   "execution_count": 16,
   "metadata": {},
   "outputs": [],
   "source": [
    "dfMin2 = df[200000:300000]"
   ]
  },
  {
   "cell_type": "markdown",
   "metadata": {},
   "source": [
    "Make new minimized dataset but there are emails that are not opened"
   ]
  },
  {
   "cell_type": "code",
   "execution_count": 17,
   "metadata": {},
   "outputs": [
    {
     "name": "stdout",
     "output_type": "stream",
     "text": [
      "100000\n",
      "16784\n"
     ]
    }
   ],
   "source": [
    "print(len(dfMin2))\n",
    "print(dfMin2['bin_open'].sum())"
   ]
  },
  {
   "cell_type": "markdown",
   "metadata": {},
   "source": [
    "Look like there are a total of 16,784 opened emails out of 100,000 total."
   ]
  },
  {
   "cell_type": "code",
   "execution_count": 24,
   "metadata": {},
   "outputs": [
    {
     "name": "stdout",
     "output_type": "stream",
     "text": [
      "10 % of array done\n",
      "20 % of array done\n",
      "30 % of array done\n",
      "40 % of array done\n",
      "50 % of array done\n",
      "60 % of array done\n",
      "70 % of array done\n",
      "80 % of array done\n",
      "90 % of array done\n",
      "Finished\n"
     ]
    },
    {
     "ename": "ValueError",
     "evalue": "Length of values does not match length of index",
     "output_type": "error",
     "traceback": [
      "\u001b[1;31m---------------------------------------------------------------------------\u001b[0m",
      "\u001b[1;31mValueError\u001b[0m                                Traceback (most recent call last)",
      "\u001b[1;32m<ipython-input-24-690c5d565aa8>\u001b[0m in \u001b[0;36m<module>\u001b[1;34m()\u001b[0m\n\u001b[0;32m      1\u001b[0m \u001b[0mdfMin2\u001b[0m\u001b[1;33m[\u001b[0m\u001b[1;34m'email_id'\u001b[0m\u001b[1;33m]\u001b[0m \u001b[1;33m=\u001b[0m \u001b[0memail_id_calc\u001b[0m\u001b[1;33m(\u001b[0m\u001b[0mdfMin2\u001b[0m\u001b[1;33m[\u001b[0m\u001b[1;34m'email'\u001b[0m\u001b[1;33m]\u001b[0m\u001b[1;33m)\u001b[0m\u001b[1;33m\u001b[0m\u001b[0m\n\u001b[1;32m----> 2\u001b[1;33m \u001b[0mdfMin2\u001b[0m\u001b[1;33m[\u001b[0m\u001b[1;34m'diff_open_deli'\u001b[0m\u001b[1;33m]\u001b[0m\u001b[1;33m=\u001b[0m\u001b[1;33m[\u001b[0m\u001b[0mdfMin2\u001b[0m\u001b[1;33m[\u001b[0m\u001b[1;34m'open_TOD'\u001b[0m\u001b[1;33m]\u001b[0m\u001b[1;33m-\u001b[0m\u001b[0mdfMin2\u001b[0m\u001b[1;33m[\u001b[0m\u001b[1;34m'delivered_TOD'\u001b[0m\u001b[1;33m]\u001b[0m\u001b[1;33m]\u001b[0m\u001b[1;33m\u001b[0m\u001b[0m\n\u001b[0m\u001b[0;32m      3\u001b[0m \u001b[0mdfMin2\u001b[0m\u001b[1;33m.\u001b[0m\u001b[0mhead\u001b[0m\u001b[1;33m(\u001b[0m\u001b[1;33m)\u001b[0m\u001b[1;33m\u001b[0m\u001b[0m\n",
      "\u001b[1;32mD:\\Anaconda3\\lib\\site-packages\\pandas\\core\\frame.py\u001b[0m in \u001b[0;36m__setitem__\u001b[1;34m(self, key, value)\u001b[0m\n\u001b[0;32m   3117\u001b[0m         \u001b[1;32melse\u001b[0m\u001b[1;33m:\u001b[0m\u001b[1;33m\u001b[0m\u001b[0m\n\u001b[0;32m   3118\u001b[0m             \u001b[1;31m# set column\u001b[0m\u001b[1;33m\u001b[0m\u001b[1;33m\u001b[0m\u001b[0m\n\u001b[1;32m-> 3119\u001b[1;33m             \u001b[0mself\u001b[0m\u001b[1;33m.\u001b[0m\u001b[0m_set_item\u001b[0m\u001b[1;33m(\u001b[0m\u001b[0mkey\u001b[0m\u001b[1;33m,\u001b[0m \u001b[0mvalue\u001b[0m\u001b[1;33m)\u001b[0m\u001b[1;33m\u001b[0m\u001b[0m\n\u001b[0m\u001b[0;32m   3120\u001b[0m \u001b[1;33m\u001b[0m\u001b[0m\n\u001b[0;32m   3121\u001b[0m     \u001b[1;32mdef\u001b[0m \u001b[0m_setitem_slice\u001b[0m\u001b[1;33m(\u001b[0m\u001b[0mself\u001b[0m\u001b[1;33m,\u001b[0m \u001b[0mkey\u001b[0m\u001b[1;33m,\u001b[0m \u001b[0mvalue\u001b[0m\u001b[1;33m)\u001b[0m\u001b[1;33m:\u001b[0m\u001b[1;33m\u001b[0m\u001b[0m\n",
      "\u001b[1;32mD:\\Anaconda3\\lib\\site-packages\\pandas\\core\\frame.py\u001b[0m in \u001b[0;36m_set_item\u001b[1;34m(self, key, value)\u001b[0m\n\u001b[0;32m   3192\u001b[0m \u001b[1;33m\u001b[0m\u001b[0m\n\u001b[0;32m   3193\u001b[0m         \u001b[0mself\u001b[0m\u001b[1;33m.\u001b[0m\u001b[0m_ensure_valid_index\u001b[0m\u001b[1;33m(\u001b[0m\u001b[0mvalue\u001b[0m\u001b[1;33m)\u001b[0m\u001b[1;33m\u001b[0m\u001b[0m\n\u001b[1;32m-> 3194\u001b[1;33m         \u001b[0mvalue\u001b[0m \u001b[1;33m=\u001b[0m \u001b[0mself\u001b[0m\u001b[1;33m.\u001b[0m\u001b[0m_sanitize_column\u001b[0m\u001b[1;33m(\u001b[0m\u001b[0mkey\u001b[0m\u001b[1;33m,\u001b[0m \u001b[0mvalue\u001b[0m\u001b[1;33m)\u001b[0m\u001b[1;33m\u001b[0m\u001b[0m\n\u001b[0m\u001b[0;32m   3195\u001b[0m         \u001b[0mNDFrame\u001b[0m\u001b[1;33m.\u001b[0m\u001b[0m_set_item\u001b[0m\u001b[1;33m(\u001b[0m\u001b[0mself\u001b[0m\u001b[1;33m,\u001b[0m \u001b[0mkey\u001b[0m\u001b[1;33m,\u001b[0m \u001b[0mvalue\u001b[0m\u001b[1;33m)\u001b[0m\u001b[1;33m\u001b[0m\u001b[0m\n\u001b[0;32m   3196\u001b[0m \u001b[1;33m\u001b[0m\u001b[0m\n",
      "\u001b[1;32mD:\\Anaconda3\\lib\\site-packages\\pandas\\core\\frame.py\u001b[0m in \u001b[0;36m_sanitize_column\u001b[1;34m(self, key, value, broadcast)\u001b[0m\n\u001b[0;32m   3389\u001b[0m \u001b[1;33m\u001b[0m\u001b[0m\n\u001b[0;32m   3390\u001b[0m             \u001b[1;31m# turn me into an ndarray\u001b[0m\u001b[1;33m\u001b[0m\u001b[1;33m\u001b[0m\u001b[0m\n\u001b[1;32m-> 3391\u001b[1;33m             \u001b[0mvalue\u001b[0m \u001b[1;33m=\u001b[0m \u001b[0m_sanitize_index\u001b[0m\u001b[1;33m(\u001b[0m\u001b[0mvalue\u001b[0m\u001b[1;33m,\u001b[0m \u001b[0mself\u001b[0m\u001b[1;33m.\u001b[0m\u001b[0mindex\u001b[0m\u001b[1;33m,\u001b[0m \u001b[0mcopy\u001b[0m\u001b[1;33m=\u001b[0m\u001b[1;32mFalse\u001b[0m\u001b[1;33m)\u001b[0m\u001b[1;33m\u001b[0m\u001b[0m\n\u001b[0m\u001b[0;32m   3392\u001b[0m             \u001b[1;32mif\u001b[0m \u001b[1;32mnot\u001b[0m \u001b[0misinstance\u001b[0m\u001b[1;33m(\u001b[0m\u001b[0mvalue\u001b[0m\u001b[1;33m,\u001b[0m \u001b[1;33m(\u001b[0m\u001b[0mnp\u001b[0m\u001b[1;33m.\u001b[0m\u001b[0mndarray\u001b[0m\u001b[1;33m,\u001b[0m \u001b[0mIndex\u001b[0m\u001b[1;33m)\u001b[0m\u001b[1;33m)\u001b[0m\u001b[1;33m:\u001b[0m\u001b[1;33m\u001b[0m\u001b[0m\n\u001b[0;32m   3393\u001b[0m                 \u001b[1;32mif\u001b[0m \u001b[0misinstance\u001b[0m\u001b[1;33m(\u001b[0m\u001b[0mvalue\u001b[0m\u001b[1;33m,\u001b[0m \u001b[0mlist\u001b[0m\u001b[1;33m)\u001b[0m \u001b[1;32mand\u001b[0m \u001b[0mlen\u001b[0m\u001b[1;33m(\u001b[0m\u001b[0mvalue\u001b[0m\u001b[1;33m)\u001b[0m \u001b[1;33m>\u001b[0m \u001b[1;36m0\u001b[0m\u001b[1;33m:\u001b[0m\u001b[1;33m\u001b[0m\u001b[0m\n",
      "\u001b[1;32mD:\\Anaconda3\\lib\\site-packages\\pandas\\core\\series.py\u001b[0m in \u001b[0;36m_sanitize_index\u001b[1;34m(data, index, copy)\u001b[0m\n\u001b[0;32m   3999\u001b[0m \u001b[1;33m\u001b[0m\u001b[0m\n\u001b[0;32m   4000\u001b[0m     \u001b[1;32mif\u001b[0m \u001b[0mlen\u001b[0m\u001b[1;33m(\u001b[0m\u001b[0mdata\u001b[0m\u001b[1;33m)\u001b[0m \u001b[1;33m!=\u001b[0m \u001b[0mlen\u001b[0m\u001b[1;33m(\u001b[0m\u001b[0mindex\u001b[0m\u001b[1;33m)\u001b[0m\u001b[1;33m:\u001b[0m\u001b[1;33m\u001b[0m\u001b[0m\n\u001b[1;32m-> 4001\u001b[1;33m         \u001b[1;32mraise\u001b[0m \u001b[0mValueError\u001b[0m\u001b[1;33m(\u001b[0m\u001b[1;34m'Length of values does not match length of '\u001b[0m \u001b[1;34m'index'\u001b[0m\u001b[1;33m)\u001b[0m\u001b[1;33m\u001b[0m\u001b[0m\n\u001b[0m\u001b[0;32m   4002\u001b[0m \u001b[1;33m\u001b[0m\u001b[0m\n\u001b[0;32m   4003\u001b[0m     \u001b[1;32mif\u001b[0m \u001b[0misinstance\u001b[0m\u001b[1;33m(\u001b[0m\u001b[0mdata\u001b[0m\u001b[1;33m,\u001b[0m \u001b[0mABCIndexClass\u001b[0m\u001b[1;33m)\u001b[0m \u001b[1;32mand\u001b[0m \u001b[1;32mnot\u001b[0m \u001b[0mcopy\u001b[0m\u001b[1;33m:\u001b[0m\u001b[1;33m\u001b[0m\u001b[0m\n",
      "\u001b[1;31mValueError\u001b[0m: Length of values does not match length of index"
     ]
    }
   ],
   "source": [
    "dfMin2['email_id'] = email_id_calc(dfMin2['email'])\n",
    "dfMin2['diff_open_deli']=[dfMin2['open_TOD']-dfMin2['delivered_TOD']]\n",
    "dfMin2.head()"
   ]
  },
  {
   "cell_type": "code",
   "execution_count": 19,
   "metadata": {},
   "outputs": [],
   "source": [
    "train2, test2 = train_test_split(dfMin2, test_size=0.2)"
   ]
  },
  {
   "cell_type": "code",
   "execution_count": 20,
   "metadata": {},
   "outputs": [],
   "source": [
    "gnb2 = GaussianNB()\n",
    "gnb2.fit(train2[features], train2['bin_open'])\n",
    "pred4 = gnb2.predict(test2[features])"
   ]
  },
  {
   "cell_type": "code",
   "execution_count": 21,
   "metadata": {},
   "outputs": [],
   "source": [
    "bnb2 = BernoulliNB()\n",
    "bnb2.fit(train2[features], train2['bin_open'])\n",
    "pred5 = bnb2.predict(test2[features])"
   ]
  }
 ],
 "metadata": {
  "kernelspec": {
   "display_name": "Python 3",
   "language": "python",
   "name": "python3"
  },
  "language_info": {
   "codemirror_mode": {
    "name": "ipython",
    "version": 3
   },
   "file_extension": ".py",
   "mimetype": "text/x-python",
   "name": "python",
   "nbconvert_exporter": "python",
   "pygments_lexer": "ipython3",
   "version": "3.7.0"
  }
 },
 "nbformat": 4,
 "nbformat_minor": 2
}
